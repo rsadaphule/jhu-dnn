{
  "nbformat": 4,
  "nbformat_minor": 0,
  "metadata": {
    "colab": {
      "provenance": [],
      "include_colab_link": true
    },
    "kernelspec": {
      "name": "python3",
      "display_name": "Python 3"
    },
    "language_info": {
      "name": "python"
    }
  },
  "cells": [
    {
      "cell_type": "markdown",
      "metadata": {
        "id": "view-in-github",
        "colab_type": "text"
      },
      "source": [
        "<a href=\"https://colab.research.google.com/github/rsadaphule/jhu-dnn/blob/main/Ravindra_2%F0%9F%8F%86%F0%9F%8C%8CStellar.ipynb\" target=\"_parent\"><img src=\"https://colab.research.google.com/assets/colab-badge.svg\" alt=\"Open In Colab\"/></a>"
      ]
    },
    {
      "cell_type": "markdown",
      "source": [
        "<small><font color=gray>Notebook author: <a href=\"https://www.linkedin.com/in/olegmelnikov/\" target=\"_blank\">Oleg Melnikov</a> ©2021 onwards</font></small><hr style=\"margin:0;background-color:silver\">\n",
        "\n",
        "**[<font size=6>🌌Stellar</font>](https://www.kaggle.com/competitions/5jun23jh-stellar/rules)**. [**Instructions**](https://colab.research.google.com/drive/1riOGrE_Fv-yfIbM5V4pgJx4DWcd92cZr#scrollTo=ITaPDPIQEgXV) for running Colabs."
      ],
      "metadata": {
        "id": "q3pqxgX4DxeH"
      }
    },
    {
      "cell_type": "markdown",
      "source": [
        "<small>**(Optional) CONSENT.** <mark>[ X ]</mark> We consent to sharing our Colab (after the assignment ends) with other students/instructors for educational purposes. We understand that sharing is optional and this decision will not affect our grade in any way. <font color=gray><i>(If ok with sharing your Colab for educational purposes, leave \"X\" in the check box.)</i></font></small>"
      ],
      "metadata": {
        "id": "_dTfQBUZyNQK"
      }
    },
    {
      "cell_type": "code",
      "source": [
        "# from google.colab import drive; drive.mount('/content/drive')   # OK to enable, if your kaggle.json is stored in Google Drive"
      ],
      "metadata": {
        "id": "qrogZ_8bD9tZ"
      },
      "execution_count": null,
      "outputs": []
    },
    {
      "cell_type": "code",
      "execution_count": null,
      "metadata": {
        "colab": {
          "base_uri": "https://localhost:8080/"
        },
        "id": "d8XoC8VqBXGs",
        "outputId": "11837cca-22c9-4a7a-de36-f4b7bb86d191"
      },
      "outputs": [
        {
          "output_type": "stream",
          "name": "stdout",
          "text": [
            "- competition is now set to: 5jun23jh-stellar\n",
            "100% 7.58M/7.58M [00:00<00:00, 37.5MB/s]\n"
          ]
        }
      ],
      "source": [
        "!pip -q install --upgrade --force-reinstall --no-deps kaggle > log  # upgrade kaggle package (to avoid a warning)\n",
        "!mkdir -p ~/.kaggle                                           # .kaggle folder must contain kaggle.json for kaggle executable to properly authenticate you to Kaggle.com\n",
        "!cp /content/drive/MyDrive/kaggle.json ~/.kaggle/kaggle.json >log  # First, download kaggle.json from kaggle.com (in Account page) and place it in the root of mounted Google Drive\n",
        "!cp kaggle.json ~/.kaggle/kaggle.json > log                   # Alternative location of kaggle.json (without a connection to Google Drive)\n",
        "!chmod 600 ~/.kaggle/kaggle.json                              # give only the owner full read/write access to kaggle.json\n",
        "!kaggle config set -n competition -v 5jun23jh-stellar        # set the competition context for the next few kaggle API calls. !kaggle config view - shows current settings\n",
        "!kaggle competitions download >> log                          # download competition dataset as a zip file\n",
        "!unzip -o *.zip >> log                                        # Kaggle dataset is copied as a single file and needs to be unzipped.\n",
        "lb =!kaggle competitions leaderboard --show                   # print public leaderboard"
      ]
    },
    {
      "cell_type": "code",
      "source": [
        "# lb0 = [(int(l[:7]), l[9:60].strip(), l[60:80].strip(), float(l[81:].strip())) for l in lb[3:]]\n",
        "# dflb = pd.DataFrame(lb0, columns=['id','team','dt','score'])\n",
        "# dflb = dflb[dflb.team.str.contains('🐯') | dflb.team.str.lower().str.contains('baseline')]\n",
        "# dflb.sort_values('dt', ascending=False)"
      ],
      "metadata": {
        "id": "yIUdGjSO24Ve"
      },
      "execution_count": null,
      "outputs": []
    },
    {
      "cell_type": "code",
      "source": [
        "%%time\n",
        "%%capture\n",
        "%reset -f\n",
        "from IPython.core.interactiveshell import InteractiveShell as IS; IS.ast_node_interactivity = \"all\" \n",
        "import numpy as np, pandas as pd, time, matplotlib.pyplot as plt, seaborn as sns, os, tqdm, re, sys, cv2, skimage\n",
        "from sklearn.preprocessing import PolynomialFeatures\n",
        "from sklearn.linear_model import LogisticRegression as LR\n",
        "from sklearn.discriminant_analysis import QuadraticDiscriminantAnalysis as QDA, LinearDiscriminantAnalysis as LDA\n",
        "ToCSV = lambda df, fname: df.round(2).to_csv(f'{fname}.csv', index_label='id') # rounds values to 2 decimals\n",
        "\n",
        "class Timer():\n",
        "  def __init__(self, lim:'RunTimeLimit'=60): self.t0, self.lim, _ = time.time(), lim, print(f'⏳ started. You have {lim} sec. Good luck!')\n",
        "  def ShowTime(self):\n",
        "    msg = f'Runtime is {time.time()-self.t0:.0f} sec'\n",
        "    print(f'\\033[91m\\033[1m' + msg + f' > {self.lim} sec limit!!!\\033[0m' if (time.time()-self.t0-1) > self.lim else msg)\n",
        "\n",
        "np.set_printoptions(linewidth=100, precision=2, edgeitems=2, suppress=True)\n",
        "pd.set_option('max_columns', 20, 'precision', 2, 'display.max_rows', 4)"
      ],
      "metadata": {
        "colab": {
          "base_uri": "https://localhost:8080/",
          "height": 390
        },
        "id": "7CyC-JlZFga1",
        "outputId": "130dd703-7a0c-4fe7-ed59-85d0a7f9a7f1"
      },
      "execution_count": null,
      "outputs": [
        {
          "output_type": "error",
          "ename": "OptionError",
          "evalue": "ignored",
          "traceback": [
            "\u001b[0;31m---------------------------------------------------------------------------\u001b[0m",
            "\u001b[0;31mOptionError\u001b[0m                               Traceback (most recent call last)",
            "\u001b[0;32m<ipython-input-5-7cb34eb7f5ba>\u001b[0m in \u001b[0;36m<cell line: 16>\u001b[0;34m()\u001b[0m\n\u001b[1;32m     14\u001b[0m \u001b[0;34m\u001b[0m\u001b[0m\n\u001b[1;32m     15\u001b[0m \u001b[0mnp\u001b[0m\u001b[0;34m.\u001b[0m\u001b[0mset_printoptions\u001b[0m\u001b[0;34m(\u001b[0m\u001b[0mlinewidth\u001b[0m\u001b[0;34m=\u001b[0m\u001b[0;36m100\u001b[0m\u001b[0;34m,\u001b[0m \u001b[0mprecision\u001b[0m\u001b[0;34m=\u001b[0m\u001b[0;36m2\u001b[0m\u001b[0;34m,\u001b[0m \u001b[0medgeitems\u001b[0m\u001b[0;34m=\u001b[0m\u001b[0;36m2\u001b[0m\u001b[0;34m,\u001b[0m \u001b[0msuppress\u001b[0m\u001b[0;34m=\u001b[0m\u001b[0;32mTrue\u001b[0m\u001b[0;34m)\u001b[0m\u001b[0;34m\u001b[0m\u001b[0;34m\u001b[0m\u001b[0m\n\u001b[0;32m---> 16\u001b[0;31m \u001b[0mpd\u001b[0m\u001b[0;34m.\u001b[0m\u001b[0mset_option\u001b[0m\u001b[0;34m(\u001b[0m\u001b[0;34m'max_columns'\u001b[0m\u001b[0;34m,\u001b[0m \u001b[0;36m20\u001b[0m\u001b[0;34m,\u001b[0m \u001b[0;34m'precision'\u001b[0m\u001b[0;34m,\u001b[0m \u001b[0;36m2\u001b[0m\u001b[0;34m,\u001b[0m \u001b[0;34m'display.max_rows'\u001b[0m\u001b[0;34m,\u001b[0m \u001b[0;36m4\u001b[0m\u001b[0;34m)\u001b[0m\u001b[0;34m\u001b[0m\u001b[0;34m\u001b[0m\u001b[0m\n\u001b[0m",
            "\u001b[0;32m/usr/local/lib/python3.10/dist-packages/pandas/_config/config.py\u001b[0m in \u001b[0;36m__call__\u001b[0;34m(self, *args, **kwds)\u001b[0m\n\u001b[1;32m    261\u001b[0m \u001b[0;34m\u001b[0m\u001b[0m\n\u001b[1;32m    262\u001b[0m     \u001b[0;32mdef\u001b[0m \u001b[0m__call__\u001b[0m\u001b[0;34m(\u001b[0m\u001b[0mself\u001b[0m\u001b[0;34m,\u001b[0m \u001b[0;34m*\u001b[0m\u001b[0margs\u001b[0m\u001b[0;34m,\u001b[0m \u001b[0;34m**\u001b[0m\u001b[0mkwds\u001b[0m\u001b[0;34m)\u001b[0m \u001b[0;34m->\u001b[0m \u001b[0mT\u001b[0m\u001b[0;34m:\u001b[0m\u001b[0;34m\u001b[0m\u001b[0;34m\u001b[0m\u001b[0m\n\u001b[0;32m--> 263\u001b[0;31m         \u001b[0;32mreturn\u001b[0m \u001b[0mself\u001b[0m\u001b[0;34m.\u001b[0m\u001b[0m__func__\u001b[0m\u001b[0;34m(\u001b[0m\u001b[0;34m*\u001b[0m\u001b[0margs\u001b[0m\u001b[0;34m,\u001b[0m \u001b[0;34m**\u001b[0m\u001b[0mkwds\u001b[0m\u001b[0;34m)\u001b[0m\u001b[0;34m\u001b[0m\u001b[0;34m\u001b[0m\u001b[0m\n\u001b[0m\u001b[1;32m    264\u001b[0m \u001b[0;34m\u001b[0m\u001b[0m\n\u001b[1;32m    265\u001b[0m     \u001b[0;31m# error: Signature of \"__doc__\" incompatible with supertype \"object\"\u001b[0m\u001b[0;34m\u001b[0m\u001b[0;34m\u001b[0m\u001b[0m\n",
            "\u001b[0;32m/usr/local/lib/python3.10/dist-packages/pandas/_config/config.py\u001b[0m in \u001b[0;36m_set_option\u001b[0;34m(*args, **kwargs)\u001b[0m\n\u001b[1;32m    154\u001b[0m \u001b[0;34m\u001b[0m\u001b[0m\n\u001b[1;32m    155\u001b[0m     \u001b[0;32mfor\u001b[0m \u001b[0mk\u001b[0m\u001b[0;34m,\u001b[0m \u001b[0mv\u001b[0m \u001b[0;32min\u001b[0m \u001b[0mzip\u001b[0m\u001b[0;34m(\u001b[0m\u001b[0margs\u001b[0m\u001b[0;34m[\u001b[0m\u001b[0;34m:\u001b[0m\u001b[0;34m:\u001b[0m\u001b[0;36m2\u001b[0m\u001b[0;34m]\u001b[0m\u001b[0;34m,\u001b[0m \u001b[0margs\u001b[0m\u001b[0;34m[\u001b[0m\u001b[0;36m1\u001b[0m\u001b[0;34m:\u001b[0m\u001b[0;34m:\u001b[0m\u001b[0;36m2\u001b[0m\u001b[0;34m]\u001b[0m\u001b[0;34m)\u001b[0m\u001b[0;34m:\u001b[0m\u001b[0;34m\u001b[0m\u001b[0;34m\u001b[0m\u001b[0m\n\u001b[0;32m--> 156\u001b[0;31m         \u001b[0mkey\u001b[0m \u001b[0;34m=\u001b[0m \u001b[0m_get_single_key\u001b[0m\u001b[0;34m(\u001b[0m\u001b[0mk\u001b[0m\u001b[0;34m,\u001b[0m \u001b[0msilent\u001b[0m\u001b[0;34m)\u001b[0m\u001b[0;34m\u001b[0m\u001b[0;34m\u001b[0m\u001b[0m\n\u001b[0m\u001b[1;32m    157\u001b[0m \u001b[0;34m\u001b[0m\u001b[0m\n\u001b[1;32m    158\u001b[0m         \u001b[0mo\u001b[0m \u001b[0;34m=\u001b[0m \u001b[0m_get_registered_option\u001b[0m\u001b[0;34m(\u001b[0m\u001b[0mkey\u001b[0m\u001b[0;34m)\u001b[0m\u001b[0;34m\u001b[0m\u001b[0;34m\u001b[0m\u001b[0m\n",
            "\u001b[0;32m/usr/local/lib/python3.10/dist-packages/pandas/_config/config.py\u001b[0m in \u001b[0;36m_get_single_key\u001b[0;34m(pat, silent)\u001b[0m\n\u001b[1;32m    121\u001b[0m         \u001b[0;32mraise\u001b[0m \u001b[0mOptionError\u001b[0m\u001b[0;34m(\u001b[0m\u001b[0;34mf\"No such keys(s): {repr(pat)}\"\u001b[0m\u001b[0;34m)\u001b[0m\u001b[0;34m\u001b[0m\u001b[0;34m\u001b[0m\u001b[0m\n\u001b[1;32m    122\u001b[0m     \u001b[0;32mif\u001b[0m \u001b[0mlen\u001b[0m\u001b[0;34m(\u001b[0m\u001b[0mkeys\u001b[0m\u001b[0;34m)\u001b[0m \u001b[0;34m>\u001b[0m \u001b[0;36m1\u001b[0m\u001b[0;34m:\u001b[0m\u001b[0;34m\u001b[0m\u001b[0;34m\u001b[0m\u001b[0m\n\u001b[0;32m--> 123\u001b[0;31m         \u001b[0;32mraise\u001b[0m \u001b[0mOptionError\u001b[0m\u001b[0;34m(\u001b[0m\u001b[0;34m\"Pattern matched multiple keys\"\u001b[0m\u001b[0;34m)\u001b[0m\u001b[0;34m\u001b[0m\u001b[0;34m\u001b[0m\u001b[0m\n\u001b[0m\u001b[1;32m    124\u001b[0m     \u001b[0mkey\u001b[0m \u001b[0;34m=\u001b[0m \u001b[0mkeys\u001b[0m\u001b[0;34m[\u001b[0m\u001b[0;36m0\u001b[0m\u001b[0;34m]\u001b[0m\u001b[0;34m\u001b[0m\u001b[0;34m\u001b[0m\u001b[0m\n\u001b[1;32m    125\u001b[0m \u001b[0;34m\u001b[0m\u001b[0m\n",
            "\u001b[0;31mOptionError\u001b[0m: Pattern matched multiple keys"
          ]
        },
        {
          "output_type": "stream",
          "name": "stdout",
          "text": [
            "CPU times: user 1.58 s, sys: 250 ms, total: 1.83 s\n",
            "Wall time: 2.92 s\n"
          ]
        }
      ]
    },
    {
      "cell_type": "code",
      "source": [
        "df = pd.read_csv('XY_Stellar.csv'); df"
      ],
      "metadata": {
        "colab": {
          "base_uri": "https://localhost:8080/",
          "height": 467
        },
        "id": "X00bQLb5FpxU",
        "outputId": "b161c713-6478-41e6-e3a1-e0828e8a59ef"
      },
      "execution_count": null,
      "outputs": [
        {
          "output_type": "execute_result",
          "data": {
            "text/plain": [
              "           alpha    delta        u        g        r        i        z  \\\n",
              "0        11.6447  21.2831  26.2810  26.1545  24.0457  18.8738  18.9963   \n",
              "1       173.0925  42.2122  22.5069  22.8322  22.2134  19.5500  19.9631   \n",
              "2       101.1591  20.4460  25.0819  25.3521  23.5971  19.6129  20.8940   \n",
              "3        31.9075   1.0176  22.0864  23.5868  19.3640  18.5630  18.2107   \n",
              "4         4.7083  -1.1852  21.2645  22.3514  18.0653  17.4791  17.1469   \n",
              "...          ...      ...      ...      ...      ...      ...      ...   \n",
              "199995  130.6722  54.0968  20.4533  21.2826  17.3454  16.8643  16.5594   \n",
              "199996  251.8969   2.0071  27.9789  28.8686  21.6680  18.6255  18.7226   \n",
              "199997  252.2881  38.3788  23.5094  24.3231  18.8953  17.6863  17.4353   \n",
              "199998  131.3059  44.2686  24.0728  24.6410  21.6306  19.2019  19.0269   \n",
              "199999   22.5880   0.2505  25.2962  25.5578  24.0909  19.4058  19.9617   \n",
              "\n",
              "        run_ID  cam_col  field_ID  redshift  plate    MJD  fiber_ID Class  \n",
              "0         8848        5       272    0.8383   7740  56824       833   NaN  \n",
              "1         4156        3       486    0.8128   9041  58067       428   NaN  \n",
              "2         3799        4        33    0.7085   9134  57370       409   NaN  \n",
              "3         8589        1       610    0.3867    704  52136       463   NaN  \n",
              "4         4485        1       152    0.2140   4249  55417       243   NaN  \n",
              "...        ...      ...       ...       ...    ...    ...       ...   ...  \n",
              "199995    4480        1        77    0.0971   1876  53270        78     G  \n",
              "199996    1489        4       771   -0.0001   4055  55594       359     S  \n",
              "199997    4172        2        38    0.3273   5016  55991       794     G  \n",
              "199998    7076        3       251    0.5455   6014  56166      1021     G  \n",
              "199999    5164        4       511    1.2600   9590  57969       878     G  \n",
              "\n",
              "[200000 rows x 15 columns]"
            ],
            "text/html": [
              "\n",
              "  <div id=\"df-1a9e0b7e-bc23-4ddb-8a9f-cc95841a5009\">\n",
              "    <div class=\"colab-df-container\">\n",
              "      <div>\n",
              "<style scoped>\n",
              "    .dataframe tbody tr th:only-of-type {\n",
              "        vertical-align: middle;\n",
              "    }\n",
              "\n",
              "    .dataframe tbody tr th {\n",
              "        vertical-align: top;\n",
              "    }\n",
              "\n",
              "    .dataframe thead th {\n",
              "        text-align: right;\n",
              "    }\n",
              "</style>\n",
              "<table border=\"1\" class=\"dataframe\">\n",
              "  <thead>\n",
              "    <tr style=\"text-align: right;\">\n",
              "      <th></th>\n",
              "      <th>alpha</th>\n",
              "      <th>delta</th>\n",
              "      <th>u</th>\n",
              "      <th>g</th>\n",
              "      <th>r</th>\n",
              "      <th>i</th>\n",
              "      <th>z</th>\n",
              "      <th>run_ID</th>\n",
              "      <th>cam_col</th>\n",
              "      <th>field_ID</th>\n",
              "      <th>redshift</th>\n",
              "      <th>plate</th>\n",
              "      <th>MJD</th>\n",
              "      <th>fiber_ID</th>\n",
              "      <th>Class</th>\n",
              "    </tr>\n",
              "  </thead>\n",
              "  <tbody>\n",
              "    <tr>\n",
              "      <th>0</th>\n",
              "      <td>11.6447</td>\n",
              "      <td>21.2831</td>\n",
              "      <td>26.2810</td>\n",
              "      <td>26.1545</td>\n",
              "      <td>24.0457</td>\n",
              "      <td>18.8738</td>\n",
              "      <td>18.9963</td>\n",
              "      <td>8848</td>\n",
              "      <td>5</td>\n",
              "      <td>272</td>\n",
              "      <td>0.8383</td>\n",
              "      <td>7740</td>\n",
              "      <td>56824</td>\n",
              "      <td>833</td>\n",
              "      <td>NaN</td>\n",
              "    </tr>\n",
              "    <tr>\n",
              "      <th>1</th>\n",
              "      <td>173.0925</td>\n",
              "      <td>42.2122</td>\n",
              "      <td>22.5069</td>\n",
              "      <td>22.8322</td>\n",
              "      <td>22.2134</td>\n",
              "      <td>19.5500</td>\n",
              "      <td>19.9631</td>\n",
              "      <td>4156</td>\n",
              "      <td>3</td>\n",
              "      <td>486</td>\n",
              "      <td>0.8128</td>\n",
              "      <td>9041</td>\n",
              "      <td>58067</td>\n",
              "      <td>428</td>\n",
              "      <td>NaN</td>\n",
              "    </tr>\n",
              "    <tr>\n",
              "      <th>2</th>\n",
              "      <td>101.1591</td>\n",
              "      <td>20.4460</td>\n",
              "      <td>25.0819</td>\n",
              "      <td>25.3521</td>\n",
              "      <td>23.5971</td>\n",
              "      <td>19.6129</td>\n",
              "      <td>20.8940</td>\n",
              "      <td>3799</td>\n",
              "      <td>4</td>\n",
              "      <td>33</td>\n",
              "      <td>0.7085</td>\n",
              "      <td>9134</td>\n",
              "      <td>57370</td>\n",
              "      <td>409</td>\n",
              "      <td>NaN</td>\n",
              "    </tr>\n",
              "    <tr>\n",
              "      <th>3</th>\n",
              "      <td>31.9075</td>\n",
              "      <td>1.0176</td>\n",
              "      <td>22.0864</td>\n",
              "      <td>23.5868</td>\n",
              "      <td>19.3640</td>\n",
              "      <td>18.5630</td>\n",
              "      <td>18.2107</td>\n",
              "      <td>8589</td>\n",
              "      <td>1</td>\n",
              "      <td>610</td>\n",
              "      <td>0.3867</td>\n",
              "      <td>704</td>\n",
              "      <td>52136</td>\n",
              "      <td>463</td>\n",
              "      <td>NaN</td>\n",
              "    </tr>\n",
              "    <tr>\n",
              "      <th>4</th>\n",
              "      <td>4.7083</td>\n",
              "      <td>-1.1852</td>\n",
              "      <td>21.2645</td>\n",
              "      <td>22.3514</td>\n",
              "      <td>18.0653</td>\n",
              "      <td>17.4791</td>\n",
              "      <td>17.1469</td>\n",
              "      <td>4485</td>\n",
              "      <td>1</td>\n",
              "      <td>152</td>\n",
              "      <td>0.2140</td>\n",
              "      <td>4249</td>\n",
              "      <td>55417</td>\n",
              "      <td>243</td>\n",
              "      <td>NaN</td>\n",
              "    </tr>\n",
              "    <tr>\n",
              "      <th>...</th>\n",
              "      <td>...</td>\n",
              "      <td>...</td>\n",
              "      <td>...</td>\n",
              "      <td>...</td>\n",
              "      <td>...</td>\n",
              "      <td>...</td>\n",
              "      <td>...</td>\n",
              "      <td>...</td>\n",
              "      <td>...</td>\n",
              "      <td>...</td>\n",
              "      <td>...</td>\n",
              "      <td>...</td>\n",
              "      <td>...</td>\n",
              "      <td>...</td>\n",
              "      <td>...</td>\n",
              "    </tr>\n",
              "    <tr>\n",
              "      <th>199995</th>\n",
              "      <td>130.6722</td>\n",
              "      <td>54.0968</td>\n",
              "      <td>20.4533</td>\n",
              "      <td>21.2826</td>\n",
              "      <td>17.3454</td>\n",
              "      <td>16.8643</td>\n",
              "      <td>16.5594</td>\n",
              "      <td>4480</td>\n",
              "      <td>1</td>\n",
              "      <td>77</td>\n",
              "      <td>0.0971</td>\n",
              "      <td>1876</td>\n",
              "      <td>53270</td>\n",
              "      <td>78</td>\n",
              "      <td>G</td>\n",
              "    </tr>\n",
              "    <tr>\n",
              "      <th>199996</th>\n",
              "      <td>251.8969</td>\n",
              "      <td>2.0071</td>\n",
              "      <td>27.9789</td>\n",
              "      <td>28.8686</td>\n",
              "      <td>21.6680</td>\n",
              "      <td>18.6255</td>\n",
              "      <td>18.7226</td>\n",
              "      <td>1489</td>\n",
              "      <td>4</td>\n",
              "      <td>771</td>\n",
              "      <td>-0.0001</td>\n",
              "      <td>4055</td>\n",
              "      <td>55594</td>\n",
              "      <td>359</td>\n",
              "      <td>S</td>\n",
              "    </tr>\n",
              "    <tr>\n",
              "      <th>199997</th>\n",
              "      <td>252.2881</td>\n",
              "      <td>38.3788</td>\n",
              "      <td>23.5094</td>\n",
              "      <td>24.3231</td>\n",
              "      <td>18.8953</td>\n",
              "      <td>17.6863</td>\n",
              "      <td>17.4353</td>\n",
              "      <td>4172</td>\n",
              "      <td>2</td>\n",
              "      <td>38</td>\n",
              "      <td>0.3273</td>\n",
              "      <td>5016</td>\n",
              "      <td>55991</td>\n",
              "      <td>794</td>\n",
              "      <td>G</td>\n",
              "    </tr>\n",
              "    <tr>\n",
              "      <th>199998</th>\n",
              "      <td>131.3059</td>\n",
              "      <td>44.2686</td>\n",
              "      <td>24.0728</td>\n",
              "      <td>24.6410</td>\n",
              "      <td>21.6306</td>\n",
              "      <td>19.2019</td>\n",
              "      <td>19.0269</td>\n",
              "      <td>7076</td>\n",
              "      <td>3</td>\n",
              "      <td>251</td>\n",
              "      <td>0.5455</td>\n",
              "      <td>6014</td>\n",
              "      <td>56166</td>\n",
              "      <td>1021</td>\n",
              "      <td>G</td>\n",
              "    </tr>\n",
              "    <tr>\n",
              "      <th>199999</th>\n",
              "      <td>22.5880</td>\n",
              "      <td>0.2505</td>\n",
              "      <td>25.2962</td>\n",
              "      <td>25.5578</td>\n",
              "      <td>24.0909</td>\n",
              "      <td>19.4058</td>\n",
              "      <td>19.9617</td>\n",
              "      <td>5164</td>\n",
              "      <td>4</td>\n",
              "      <td>511</td>\n",
              "      <td>1.2600</td>\n",
              "      <td>9590</td>\n",
              "      <td>57969</td>\n",
              "      <td>878</td>\n",
              "      <td>G</td>\n",
              "    </tr>\n",
              "  </tbody>\n",
              "</table>\n",
              "<p>200000 rows × 15 columns</p>\n",
              "</div>\n",
              "      <button class=\"colab-df-convert\" onclick=\"convertToInteractive('df-1a9e0b7e-bc23-4ddb-8a9f-cc95841a5009')\"\n",
              "              title=\"Convert this dataframe to an interactive table.\"\n",
              "              style=\"display:none;\">\n",
              "        \n",
              "  <svg xmlns=\"http://www.w3.org/2000/svg\" height=\"24px\"viewBox=\"0 0 24 24\"\n",
              "       width=\"24px\">\n",
              "    <path d=\"M0 0h24v24H0V0z\" fill=\"none\"/>\n",
              "    <path d=\"M18.56 5.44l.94 2.06.94-2.06 2.06-.94-2.06-.94-.94-2.06-.94 2.06-2.06.94zm-11 1L8.5 8.5l.94-2.06 2.06-.94-2.06-.94L8.5 2.5l-.94 2.06-2.06.94zm10 10l.94 2.06.94-2.06 2.06-.94-2.06-.94-.94-2.06-.94 2.06-2.06.94z\"/><path d=\"M17.41 7.96l-1.37-1.37c-.4-.4-.92-.59-1.43-.59-.52 0-1.04.2-1.43.59L10.3 9.45l-7.72 7.72c-.78.78-.78 2.05 0 2.83L4 21.41c.39.39.9.59 1.41.59.51 0 1.02-.2 1.41-.59l7.78-7.78 2.81-2.81c.8-.78.8-2.07 0-2.86zM5.41 20L4 18.59l7.72-7.72 1.47 1.35L5.41 20z\"/>\n",
              "  </svg>\n",
              "      </button>\n",
              "      \n",
              "  <style>\n",
              "    .colab-df-container {\n",
              "      display:flex;\n",
              "      flex-wrap:wrap;\n",
              "      gap: 12px;\n",
              "    }\n",
              "\n",
              "    .colab-df-convert {\n",
              "      background-color: #E8F0FE;\n",
              "      border: none;\n",
              "      border-radius: 50%;\n",
              "      cursor: pointer;\n",
              "      display: none;\n",
              "      fill: #1967D2;\n",
              "      height: 32px;\n",
              "      padding: 0 0 0 0;\n",
              "      width: 32px;\n",
              "    }\n",
              "\n",
              "    .colab-df-convert:hover {\n",
              "      background-color: #E2EBFA;\n",
              "      box-shadow: 0px 1px 2px rgba(60, 64, 67, 0.3), 0px 1px 3px 1px rgba(60, 64, 67, 0.15);\n",
              "      fill: #174EA6;\n",
              "    }\n",
              "\n",
              "    [theme=dark] .colab-df-convert {\n",
              "      background-color: #3B4455;\n",
              "      fill: #D2E3FC;\n",
              "    }\n",
              "\n",
              "    [theme=dark] .colab-df-convert:hover {\n",
              "      background-color: #434B5C;\n",
              "      box-shadow: 0px 1px 3px 1px rgba(0, 0, 0, 0.15);\n",
              "      filter: drop-shadow(0px 1px 2px rgba(0, 0, 0, 0.3));\n",
              "      fill: #FFFFFF;\n",
              "    }\n",
              "  </style>\n",
              "\n",
              "      <script>\n",
              "        const buttonEl =\n",
              "          document.querySelector('#df-1a9e0b7e-bc23-4ddb-8a9f-cc95841a5009 button.colab-df-convert');\n",
              "        buttonEl.style.display =\n",
              "          google.colab.kernel.accessAllowed ? 'block' : 'none';\n",
              "\n",
              "        async function convertToInteractive(key) {\n",
              "          const element = document.querySelector('#df-1a9e0b7e-bc23-4ddb-8a9f-cc95841a5009');\n",
              "          const dataTable =\n",
              "            await google.colab.kernel.invokeFunction('convertToInteractive',\n",
              "                                                     [key], {});\n",
              "          if (!dataTable) return;\n",
              "\n",
              "          const docLinkHtml = 'Like what you see? Visit the ' +\n",
              "            '<a target=\"_blank\" href=https://colab.research.google.com/notebooks/data_table.ipynb>data table notebook</a>'\n",
              "            + ' to learn more about interactive tables.';\n",
              "          element.innerHTML = '';\n",
              "          dataTable['output_type'] = 'display_data';\n",
              "          await google.colab.output.renderOutput(dataTable, element);\n",
              "          const docLink = document.createElement('div');\n",
              "          docLink.innerHTML = docLinkHtml;\n",
              "          element.appendChild(docLink);\n",
              "        }\n",
              "      </script>\n",
              "    </div>\n",
              "  </div>\n",
              "  "
            ]
          },
          "metadata": {},
          "execution_count": 6
        }
      ]
    },
    {
      "cell_type": "code",
      "source": [
        "df.info()   # observe datatypes and any missing values"
      ],
      "metadata": {
        "colab": {
          "base_uri": "https://localhost:8080/"
        },
        "id": "fFp0IV3BJR9_",
        "outputId": "75598097-d81d-4e82-c25f-bf2152735c93"
      },
      "execution_count": null,
      "outputs": [
        {
          "output_type": "stream",
          "name": "stdout",
          "text": [
            "<class 'pandas.core.frame.DataFrame'>\n",
            "RangeIndex: 200000 entries, 0 to 199999\n",
            "Data columns (total 15 columns):\n",
            " #   Column    Non-Null Count   Dtype  \n",
            "---  ------    --------------   -----  \n",
            " 0   alpha     200000 non-null  float64\n",
            " 1   delta     200000 non-null  float64\n",
            " 2   u         200000 non-null  float64\n",
            " 3   g         200000 non-null  float64\n",
            " 4   r         200000 non-null  float64\n",
            " 5   i         200000 non-null  float64\n",
            " 6   z         200000 non-null  float64\n",
            " 7   run_ID    200000 non-null  int64  \n",
            " 8   cam_col   200000 non-null  int64  \n",
            " 9   field_ID  200000 non-null  int64  \n",
            " 10  redshift  200000 non-null  float64\n",
            " 11  plate     200000 non-null  int64  \n",
            " 12  MJD       200000 non-null  int64  \n",
            " 13  fiber_ID  200000 non-null  int64  \n",
            " 14  Class     160000 non-null  object \n",
            "dtypes: float64(8), int64(6), object(1)\n",
            "memory usage: 22.9+ MB\n"
          ]
        }
      ]
    },
    {
      "cell_type": "code",
      "source": [
        "# Change string labels to numbers in order of increasing size of the entity (Star < Quasi Star < Galaxy)\n",
        "# df.Class = df.Class.apply(lambda C: -1 if C=='S' else 0 if C=='Q' else 1 if C=='G' else None) "
      ],
      "metadata": {
        "id": "UDA4wJqELlOR"
      },
      "execution_count": null,
      "outputs": []
    },
    {
      "cell_type": "code",
      "source": [
        "vX = df.query('Class!=Class').drop('Class', axis=1)  # slice a test sample\n",
        "tXY = df.query('Class==Class')                       # slice training sample\n",
        "tX, tY = tXY.drop('Class', axis=1), tXY.Class        # split into training I/O"
      ],
      "metadata": {
        "id": "f7OuVizOFsFF"
      },
      "execution_count": null,
      "outputs": []
    },
    {
      "cell_type": "code",
      "source": [
        "def ScatterCorrHist(df):\n",
        "  def corrdot(*args, **kwargs):\n",
        "    # credit: https://stackoverflow.com/questions/48139899\n",
        "    corr_r = args[0].corr(args[1], 'pearson')\n",
        "    corr_text = f\"{corr_r:2.2f}\".replace(\"0.\", \".\")\n",
        "    ax = plt.gca();\n",
        "    ax.set_axis_off();\n",
        "    msz = abs(corr_r) * 5000   # marker size\n",
        "    fsz = abs(corr_r) * 40 + 5 # font size\n",
        "    ax.scatter([.5], [.5], msz, [corr_r], alpha=0.5, cmap='coolwarm', vmin=-1, vmax=1, transform=ax.transAxes)\n",
        "    ax.annotate(corr_text, [.5, .5,],  xycoords=\"axes fraction\", ha='center', va='center', fontsize=fsz)\n",
        "\n",
        "  sns.set(style='white', font_scale=.8);\n",
        "  g = sns.PairGrid(df, aspect=1, diag_sharey=False);\n",
        "  g.fig.set_size_inches(20,10)\n",
        "  g.map_lower(sns.regplot, lowess=True, ci=False, line_kws={'color':'red'}, scatter_kws={'s':1});\n",
        "  g.map_diag(sns.histplot, kde_kws={'color':'black'});\n",
        "  g.map_upper(corrdot);\n",
        "  g.fig.suptitle(\"Scatter plot, Correlations and histograms on diagonal\", y=1);\n",
        "  _ = plt.subplots_adjust(hspace=0.02, wspace=0.02);\n",
        "  _ = plt.show();\n",
        "\n",
        "# ScatterCorrHist(tXY.head(200))"
      ],
      "metadata": {
        "id": "i4gelET6Hb2A"
      },
      "execution_count": null,
      "outputs": []
    },
    {
      "cell_type": "code",
      "source": [
        "tmr = Timer()"
      ],
      "metadata": {
        "colab": {
          "base_uri": "https://localhost:8080/"
        },
        "id": "z4_C58bbHuja",
        "outputId": "f52f16ae-e10d-48f7-b06c-e1539907ce50"
      },
      "execution_count": null,
      "outputs": [
        {
          "output_type": "stream",
          "name": "stdout",
          "text": [
            "⏳ started. You have 60 sec. Good luck!\n"
          ]
        }
      ]
    },
    {
      "cell_type": "markdown",
      "source": [
        "<hr color=red>\n",
        "\n",
        "<font size=5>⏳</font> <strong><font color=orange size=5>Your Code, Documentation, Ideas and Timer - All Start Here...</font></strong>\n",
        "\n",
        "**Student's Section** (between ⏳ symbols): add your code and documentation here."
      ],
      "metadata": {
        "id": "3NcTKbw3KhAn"
      }
    },
    {
      "cell_type": "markdown",
      "metadata": {
        "id": "OpyLNt3god0c"
      },
      "source": [
        "## **Task 1. Preprocessing Pipeline**\n",
        " \n",
        "Explain elements of your preprocessing pipeline i.e. feature engineering, subsampling, clustering, dimensionality reduction, etc. \n",
        "1. Why did you choose these elements? (Something in EDA, prior experience,...? Btw, EDA is not required)\n",
        "1. How do you evaluate the effectiveness of these elements? \n",
        "1. What else have you tried that worked or didn't? "
      ]
    },
    {
      "cell_type": "markdown",
      "metadata": {
        "id": "30xYIFXAnaPE"
      },
      "source": [
        "**Student's answer:**"
      ]
    },
    {
      "cell_type": "markdown",
      "metadata": {
        "id": "KGJRwzqHob4o"
      },
      "source": [
        "## **Task 2. Modeling Approach**\n",
        "Explain your modeling approach, i.e. ideas you tried and why you thought they would be helpful. \n",
        "\n",
        "1. How did these decisions guide you in modeling?\n",
        "1. How do you evaluate the effectiveness of these elements? \n",
        "1. What else have you tried that worked or didn't? "
      ]
    },
    {
      "cell_type": "markdown",
      "metadata": {
        "id": "zi6ZjgtWnb58"
      },
      "source": [
        "**Student's answer:**"
      ]
    },
    {
      "cell_type": "markdown",
      "metadata": {
        "id": "YJs0jS4fIO1j"
      },
      "source": [
        "Below is a baseline model that produces the result on Kaggle leaderboard (LB)."
      ]
    },
    {
      "cell_type": "code",
      "source": [
        "%%time\n",
        "np.random.seed(0)\n",
        "tX0, tY0 = tX.iloc[:20000,:], tY[:20000]   # subsample for model selection experiments\n",
        "vX0, vY0 = tX.iloc[-20000:,:], tY[-20000:] # subsample for model selection experiments\n",
        "\n",
        "poly = PolynomialFeatures(degree=2)    # add non-linear features (powers and interactions)\n",
        "tX0p = poly.fit_transform(tX0.select_dtypes(include=np.number))  # create object on training set\n",
        "vX0p = poly.transform(vX0.select_dtypes(include=np.number))      # apply the same object to test set\n",
        "vXp  = poly.transform(vX.select_dtypes(include=np.number))       # apply the same object to test set\n",
        "\n",
        "m = LDA()\n",
        "# m = LR(C=.0001, max_iter=100, n_jobs=-1, multi_class='auto', random_state=0) # always seed your experiments for reproducibility\n",
        "print(m.fit(tX0p, tY0).score(vX0p, vY0))   # fit the model and show test error"
      ],
      "metadata": {
        "colab": {
          "base_uri": "https://localhost:8080/"
        },
        "id": "Nviw5N7GLTbn",
        "outputId": "f1c69da1-5ef9-4200-a1eb-f706caabb28a"
      },
      "execution_count": null,
      "outputs": [
        {
          "output_type": "stream",
          "name": "stdout",
          "text": [
            "0.90875\n",
            "CPU times: user 1.1 s, sys: 170 ms, total: 1.27 s\n",
            "Wall time: 1.08 s\n"
          ]
        }
      ]
    },
    {
      "cell_type": "code",
      "source": [
        "pY = pd.DataFrame(m.predict(vXp), index=range(1,len(vX)+1), columns=['Class'])  # ensure that labels and observations are in corresponding order\n",
        "df.Class.fillna('unknown').value_counts()   # distribution of all train labels\n",
        "pY.value_counts()                           # distribution of predicted labels\n",
        "ToCSV(pY, 'MySubmission')"
      ],
      "metadata": {
        "colab": {
          "base_uri": "https://localhost:8080/"
        },
        "id": "R0-jxlb2LiLL",
        "outputId": "ac1fa056-802c-4bc7-95e1-a18e6568a0d4"
      },
      "execution_count": null,
      "outputs": [
        {
          "output_type": "execute_result",
          "data": {
            "text/plain": [
              "G          95204\n",
              "unknown    40000\n",
              "S          34362\n",
              "Q          30434\n",
              "Name: Class, dtype: int64"
            ]
          },
          "metadata": {},
          "execution_count": 13
        },
        {
          "output_type": "execute_result",
          "data": {
            "text/plain": [
              "Class\n",
              "G        25087\n",
              "S         8360\n",
              "Q         6553\n",
              "dtype: int64"
            ]
          },
          "metadata": {},
          "execution_count": 13
        }
      ]
    },
    {
      "cell_type": "markdown",
      "source": [
        "# **References:**"
      ],
      "metadata": {
        "id": "pzBsjCvS_kEw"
      }
    },
    {
      "cell_type": "markdown",
      "source": [
        "1. Remember to cite your sources here as well! At the least, your textbook should be cited. Google Scholar allows you to effortlessly copy/paste an APA citation format for books and publications. Also cite StackOverflow, package documentation, and other meaningful internet resources to help your peers learn from these (and to avoid plagiarism claims)."
      ],
      "metadata": {
        "id": "2kr8Q-9T_nAb"
      }
    },
    {
      "cell_type": "markdown",
      "source": [
        "<font size=5>⌛</font> <strong><font color=orange size=5>Do not exceed competition's runtime limit!</font></strong>\n",
        "\n",
        "<hr color=red>\n"
      ],
      "metadata": {
        "id": "DoF2GoB_QGw9"
      }
    },
    {
      "cell_type": "code",
      "source": [
        "tmr.ShowTime()    # measure Colab's runtime. Do not remove. Keep as the last cell in your notebook."
      ],
      "metadata": {
        "colab": {
          "base_uri": "https://localhost:8080/"
        },
        "id": "bD1sdgYbNWQA",
        "outputId": "2bba9681-65f1-4155-ab86-84f49bbede69"
      },
      "execution_count": null,
      "outputs": [
        {
          "output_type": "stream",
          "name": "stdout",
          "text": [
            "Runtime is 1 sec\n"
          ]
        }
      ]
    },
    {
      "cell_type": "markdown",
      "metadata": {
        "id": "oUStTaN4uo_Z"
      },
      "source": [
        "## 💡**Starter Ideas**"
      ]
    },
    {
      "cell_type": "markdown",
      "source": [
        "1. Tune model hyperparameters\n",
        "1. Try to linear and non-linear feature normalization: shift/scale, log, divide features by features (investigate scatterplot matrix)\n",
        "1. Try higher order feature interactions and polynomial features on a small subsample. Then identify key features or select key principal components. The final model can be trained on a larger or even full training sample. You can use [PCA](https://scikit-learn.org/stable/modules/generated/sklearn.decomposition.PCA.html) to reduce the feature set\n",
        "1. Do a thorough EDA: look for feature augmentations that result in linear decision boundaries between pairs of classes.\n",
        "1. Evaluate predictions and focus on poorly predicted \"groups\":\n",
        "  1. Strongest missclassifications. E.g. the model is very confident about the wrong label\n",
        "  1. Evaluate predictions near decision boundaries.\n",
        "1. Do scatter plots show piecewise linear shape? Can a separate linear model be used on each support, or can the pattern be linearized via transformations?\n",
        "1. How are date/categorical features treated by the model? Is there a [better way](https://www.google.com/search?q=ways+to+encode+categorical+data) to encode these (perhaps, ordinal) features? \n",
        "  1. E.g. you could replace codes (or groups of codes) with their frequencies, which may capture the implied \"distance\" or rarity between category levels.\n",
        "  1. If encoding ordinal features with integers, should non-equidistant values be considered?\n",
        "1. Learn astronomy domain and features: [🎦](https://www.youtube.com/results?search_query=Quasi-star), [quasi-star](https://en.wikipedia.org/wiki/Quasi-star), [star](https://en.wikipedia.org/wiki/Star), [galaxy](https://en.wikipedia.org/wiki/Galaxy), [📃](https://arxiv.org/abs/2112.02026)\n"
      ],
      "metadata": {
        "id": "q4QO-u3t8xAO"
      }
    },
    {
      "cell_type": "code",
      "source": [],
      "metadata": {
        "id": "tLlIseR-EcrE"
      },
      "execution_count": null,
      "outputs": []
    }
  ]
}